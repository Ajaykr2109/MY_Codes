{
 "cells": [
  {
   "cell_type": "code",
   "execution_count": 14,
   "metadata": {},
   "outputs": [
    {
     "name": "stdout",
     "output_type": "stream",
     "text": [
      "              Open         High          Low        Close    Adj Close  \\\n",
      "Date                                                                     \n",
      "2022-02-14  3724.0  3793.250000  3710.000000  3733.750000  3616.203125   \n",
      "2022-02-15  3786.0  3835.000000  3748.000000  3817.800049  3697.606689   \n",
      "2022-02-16  3844.0  3854.100098  3806.000000  3813.100098  3693.054932   \n",
      "2022-02-17  3825.0  3835.000000  3779.000000  3784.199951  3665.064453   \n",
      "2022-02-18  3769.0  3815.949951  3757.600098  3793.899902  3674.459229   \n",
      "\n",
      "             Volume  \n",
      "Date                 \n",
      "2022-02-14  5951745  \n",
      "2022-02-15  3931683  \n",
      "2022-02-16  3256906  \n",
      "2022-02-17  3134372  \n",
      "2022-02-18  3688883  \n"
     ]
    }
   ],
   "source": [
    "import pandas as pd\n",
    "import yfinance as yf\n",
    "import datetime\n",
    "from datetime import date, timedelta\n",
    "today = date.today()\n",
    "\n",
    "d1 = today.strftime(\"%Y-%m-%d\")\n",
    "end_date = d1\n",
    "d2 = date.today() - timedelta(days=360)\n",
    "d2 = d2.strftime(\"%Y-%m-%d\")\n",
    "start_date = d2\n",
    "\n",
    "data = yf.download('TCS.NS', \n",
    "                      start=start_date, \n",
    "                      end=end_date, \n",
    "                      progress=False)\n",
    "print(data.head())"
   ]
  }
 ],
 "metadata": {
  "kernelspec": {
   "display_name": "Python 3",
   "language": "python",
   "name": "python3"
  },
  "language_info": {
   "codemirror_mode": {
    "name": "ipython",
    "version": 3
   },
   "file_extension": ".py",
   "mimetype": "text/x-python",
   "name": "python",
   "nbconvert_exporter": "python",
   "pygments_lexer": "ipython3",
   "version": "3.10.10"
  },
  "orig_nbformat": 4,
  "vscode": {
   "interpreter": {
    "hash": "963c083ff1e2198701701ece8cf7bcddcd0f20787580b5a226b8e328d64c55ab"
   }
  }
 },
 "nbformat": 4,
 "nbformat_minor": 2
}
