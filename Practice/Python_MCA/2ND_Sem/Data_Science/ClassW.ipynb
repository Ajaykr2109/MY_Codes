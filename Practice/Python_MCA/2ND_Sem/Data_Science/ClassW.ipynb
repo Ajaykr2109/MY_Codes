{
  "cells": [
    {
      "cell_type": "code",
      "execution_count": null,
      "metadata": {
        "colab": {
          "base_uri": "https://localhost:8080/",
          "height": 295
        },
        "id": "dEzZ8IlDXYr7",
        "outputId": "c9a4b9e9-86bd-4ca0-82ee-fd4f1bd15ee1"
      },
      "outputs": [],
      "source": [
        "import matplotlib.pyplot as plt\n",
        "\n",
        "# Sample data\n",
        "x = [1, 2, 3, 4, 5]\n",
        "y = [2, 4, 6, 8, 10]\n",
        "\n",
        "# Plotting the data\n",
        "plt.plot(x, y)\n",
        "\n",
        "# Labeling the x and y axes\n",
        "plt.xlabel(\"X axis\")\n",
        "plt.ylabel(\"Y axis\")\n",
        "\n",
        "# Adding a title to the plot\n",
        "plt.title(\"Line Plot\")\n",
        "\n",
        "# Showing the plot\n",
        "plt.show()\n"
      ]
    },
    {
      "cell_type": "code",
      "execution_count": null,
      "metadata": {
        "colab": {
          "base_uri": "https://localhost:8080/",
          "height": 281
        },
        "id": "Gvn4Dz4cXZqR",
        "outputId": "97e2d127-6fca-4fa0-d456-93f6199f7118"
      },
      "outputs": [],
      "source": [
        "labels = ['A', 'B', 'C', 'D', 'E']\n",
        "data = [2, 4, 6, 8, 10]\n",
        "\n",
        "# Plotting the data\n",
        "plt.bar(labels, data)\n",
        "\n",
        "# Labeling the y axis\n",
        "plt.ylabel(\"Y axis\")\n",
        "\n",
        "# Adding a title to the plot\n",
        "plt.title(\"Bar Plot\")\n",
        "\n",
        "# Showing the plot\n",
        "plt.show()"
      ]
    },
    {
      "cell_type": "code",
      "execution_count": null,
      "metadata": {
        "colab": {
          "base_uri": "https://localhost:8080/",
          "height": 295
        },
        "id": "UytR0fbxXeuM",
        "outputId": "7648e4d9-5b84-4aca-9272-5953c4477f29"
      },
      "outputs": [],
      "source": [
        "# Sample data\n",
        "x = [1, 2, 3, 4, 5]\n",
        "y = [2, 4, 6, 8, 10]\n",
        "\n",
        "# Plotting the data\n",
        "plt.scatter(x, y)\n",
        "\n",
        "# Labeling the x and y axes\n",
        "plt.xlabel(\"X axis\")\n",
        "plt.ylabel(\"Y axis\")\n",
        "\n",
        "# Adding a title to the plot\n",
        "plt.title(\"Scatter Plot\")\n",
        "\n",
        "# Showing the plot\n",
        "plt.show()\n"
      ]
    },
    {
      "cell_type": "code",
      "execution_count": null,
      "metadata": {
        "colab": {
          "base_uri": "https://localhost:8080/",
          "height": 295
        },
        "id": "mUUsRbvmXjFd",
        "outputId": "10b30c1b-b623-4de7-859b-3aa955ee43af"
      },
      "outputs": [],
      "source": [
        "import matplotlib.pyplot as plt\n",
        "\n",
        "# Sample data\n",
        "data = [2, 4, 6, 8, 10, 2, 4, 6, 8, 10, 2, 4, 6, 8, 10]\n",
        "\n",
        "# Plotting the data\n",
        "plt.hist(data, bins=4)\n",
        "\n",
        "# Labeling the x axis\n",
        "plt.xlabel(\"X axis\")\n",
        "\n",
        "# Adding a title to the plot\n",
        "plt.title(\"Histogram\")\n",
        "\n",
        "# Showing the plot\n",
        "plt.show()\n"
      ]
    },
    {
      "cell_type": "code",
      "execution_count": 9,
      "metadata": {
        "colab": {
          "base_uri": "https://localhost:8080/",
          "height": 336
        },
        "id": "QltdgJgbX4qq",
        "outputId": "d93b5961-470e-4701-f251-fb70ebf22dba"
      },
      "outputs": [
        {
          "ename": "TypeError",
          "evalue": "lineplot() takes from 0 to 1 positional arguments but 2 were given",
          "output_type": "error",
          "traceback": [
            "\u001b[1;31m---------------------------------------------------------------------------\u001b[0m",
            "\u001b[1;31mTypeError\u001b[0m                                 Traceback (most recent call last)",
            "Cell \u001b[1;32mIn[9], line 9\u001b[0m\n\u001b[0;32m      6\u001b[0m y \u001b[39m=\u001b[39m [\u001b[39m2\u001b[39m, \u001b[39m4\u001b[39m, \u001b[39m6\u001b[39m, \u001b[39m8\u001b[39m, \u001b[39m10\u001b[39m]\n\u001b[0;32m      8\u001b[0m \u001b[39m# Plotting the data\u001b[39;00m\n\u001b[1;32m----> 9\u001b[0m sns\u001b[39m.\u001b[39;49mlineplot(x, y)\n\u001b[0;32m     11\u001b[0m \u001b[39m# Adding a title to the plot\u001b[39;00m\n\u001b[0;32m     12\u001b[0m plt\u001b[39m.\u001b[39mtitle(\u001b[39m\"\u001b[39m\u001b[39mLine Plot\u001b[39m\u001b[39m\"\u001b[39m)\n",
            "\u001b[1;31mTypeError\u001b[0m: lineplot() takes from 0 to 1 positional arguments but 2 were given"
          ]
        }
      ],
      "source": [
        "import seaborn as sns\n",
        "import matplotlib.pyplot as plt\n",
        "\n",
        "# Sample data\n",
        "x = [1, 2, 3, 4, 5]\n",
        "y = [2, 4, 6, 8, 10]\n",
        "\n",
        "# Plotting the data\n",
        "sns.lineplot(x, y)\n",
        "\n",
        "# Adding a title to the plot\n",
        "plt.title(\"Line Plot\")\n",
        "\n",
        "# Showing the plot\n",
        "plt.show()\n"
      ]
    },
    {
      "cell_type": "code",
      "execution_count": null,
      "metadata": {
        "colab": {
          "base_uri": "https://localhost:8080/",
          "height": 281
        },
        "id": "xqYMRNz4YJOQ",
        "outputId": "27d29c4b-adb3-405e-94cc-0b47302a6a0b"
      },
      "outputs": [],
      "source": [
        "import seaborn as sns\n",
        "import matplotlib.pyplot as plt\n",
        "\n",
        "# Sample data\n",
        "labels = ['A', 'B', 'C', 'D', 'E']\n",
        "data = [2, 4, 6, 8, 10]\n",
        "\n",
        "# Plotting the data\n",
        "sns.barplot(x=labels, y=data)\n",
        "\n",
        "# Adding a title to the plot\n",
        "plt.title(\"Bar Plot\")\n",
        "\n",
        "# Showing the plot\n",
        "plt.show()\n"
      ]
    },
    {
      "cell_type": "code",
      "execution_count": null,
      "metadata": {
        "colab": {
          "base_uri": "https://localhost:8080/",
          "height": 336
        },
        "id": "F_AOzSntYMLP",
        "outputId": "0bd20d3e-d04c-42e3-bff3-fc1dce73a35b"
      },
      "outputs": [],
      "source": [
        "import seaborn as sns\n",
        "import matplotlib.pyplot as plt\n",
        "\n",
        "# Sample data\n",
        "x = [1, 2, 3, 4, 5]\n",
        "y = [2, 4, 6, 8, 10]\n",
        "\n",
        "# Plotting the data\n",
        "sns.scatterplot(x, y)\n",
        "\n",
        "# Adding a title to the plot\n",
        "plt.title(\"Scatter Plot\")\n",
        "\n",
        "# Showing the plot\n",
        "plt.show()\n"
      ]
    },
    {
      "cell_type": "code",
      "execution_count": null,
      "metadata": {
        "colab": {
          "base_uri": "https://localhost:8080/",
          "height": 281
        },
        "id": "WH2Sea27YSW_",
        "outputId": "0d7c9e31-1cf6-4737-9b35-ebffa10fc77a"
      },
      "outputs": [],
      "source": [
        "import seaborn as sns\n",
        "import matplotlib.pyplot as plt\n",
        "\n",
        "# Sample data\n",
        "data = [2, 4, 6, 8, 10, 2, 4, 6, 8, 10, 2, 4, 6, 8, 10]\n",
        "\n",
        "# Plotting the data\n",
        "sns.histplot(data, bins=5)\n",
        "\n",
        "# Adding a title to the plot\n",
        "plt.title(\"Histogram\")\n",
        "\n",
        "# Showing the plot\n",
        "plt.show()\n"
      ]
    },
    {
      "cell_type": "code",
      "execution_count": null,
      "metadata": {
        "colab": {
          "base_uri": "https://localhost:8080/",
          "height": 281
        },
        "id": "V8g7i_CaYVe8",
        "outputId": "4fda28ae-bea5-457c-9229-953665cad619"
      },
      "outputs": [],
      "source": [
        "import seaborn as sns\n",
        "import matplotlib.pyplot as plt\n",
        "\n",
        "# Sample data\n",
        "data = [2, 4, 6, 8, 10, 2, 4, 6, 8, 10, 2, 4, 6, 8, 10]\n",
        "\n",
        "# Plotting the data\n",
        "sns.kdeplot(data)\n",
        "\n",
        "# Adding a title to the plot\n",
        "plt.title(\"Kernel Density Estimation Plot\")\n",
        "\n",
        "# Showing the plot\n",
        "plt.show()\n"
      ]
    },
    {
      "cell_type": "code",
      "execution_count": null,
      "metadata": {
        "colab": {
          "base_uri": "https://localhost:8080/",
          "height": 336
        },
        "id": "1OWjTBQpYcEn",
        "outputId": "790f0026-9575-4777-d7ed-6b2b1e4c39f4"
      },
      "outputs": [],
      "source": [
        "import seaborn as sns\n",
        "import matplotlib.pyplot as plt\n",
        "\n",
        "# Sample data\n",
        "x = [1, 2, 3, 4, 5]\n",
        "y = [2, 4, 6, 8, 10]\n",
        "\n",
        "# Plotting the data\n",
        "sns.lineplot(x, y, palette='viridis')\n",
        "\n",
        "# Adding a title to the plot\n",
        "plt.title(\"Line Plot\")\n",
        "\n",
        "# Showing the plot\n",
        "plt.show()\n"
      ]
    },
    {
      "cell_type": "code",
      "execution_count": null,
      "metadata": {
        "colab": {
          "base_uri": "https://localhost:8080/",
          "height": 336
        },
        "id": "PeP41fwJYrjb",
        "outputId": "30559068-1f7a-42d0-a2fc-e18e6906313e"
      },
      "outputs": [],
      "source": [
        "import seaborn as sns\n",
        "import matplotlib.pyplot as plt\n",
        "\n",
        "# Setting the style\n",
        "sns.set_style('darkgrid')\n",
        "\n",
        "# Sample data\n",
        "x = [1, 2, 3, 4, 5]\n",
        "y = [2, 4, 6, 8, 10]\n",
        "\n",
        "# Plotting the data\n",
        "sns.lineplot(x, y)\n",
        "\n",
        "# Adding a title to the plot\n",
        "plt.title(\"Line Plot\")\n",
        "\n",
        "# Showing the plot\n",
        "plt.show()\n"
      ]
    },
    {
      "cell_type": "code",
      "execution_count": null,
      "metadata": {
        "colab": {
          "base_uri": "https://localhost:8080/",
          "height": 336
        },
        "id": "jIdPY23cYvq-",
        "outputId": "ac9f58e6-0563-4bf3-9598-d946851b259d"
      },
      "outputs": [],
      "source": [
        "import seaborn as sns\n",
        "import matplotlib.pyplot as plt\n",
        "\n",
        "# Setting the style\n",
        "sns.set_style('whitegrid')\n",
        "\n",
        "# Sample data\n",
        "x = [1, 2, 3, 4, 5]\n",
        "y = [2, 4, 6, 8, 10]\n",
        "\n",
        "# Plotting the data\n",
        "sns.lineplot(x, y)\n",
        "\n",
        "# Adding a title to the plot\n",
        "plt.title(\"Line Plot\")\n",
        "\n",
        "# Adding a background color\n",
        "plt.gca().set_facecolor('green')\n",
        "\n",
        "# Showing the plot\n",
        "plt.show()\n"
      ]
    },
    {
      "cell_type": "code",
      "execution_count": null,
      "metadata": {
        "colab": {
          "base_uri": "https://localhost:8080/",
          "height": 296
        },
        "id": "-JXyquPRY10b",
        "outputId": "4d76396d-62cd-41b3-e864-e303cc8fa012"
      },
      "outputs": [],
      "source": [
        "import seaborn as sns\n",
        "import matplotlib.pyplot as plt\n",
        "\n",
        "# Load the iris dataset\n",
        "iris = sns.load_dataset('iris')\n",
        "\n",
        "# Plot the data with 'hue' parameter\n",
        "sns.scatterplot(x='sepal_length', y='sepal_width', hue='species', data=iris)\n",
        "\n",
        "# Add a title to the plot\n",
        "plt.title(\"Iris Dataset\")\n",
        "\n",
        "# Show the plot\n",
        "plt.show()\n"
      ]
    },
    {
      "cell_type": "code",
      "execution_count": null,
      "metadata": {
        "id": "Oya-JbOQZI-U"
      },
      "outputs": [],
      "source": []
    }
  ],
  "metadata": {
    "colab": {
      "provenance": []
    },
    "kernelspec": {
      "display_name": "Python 3",
      "language": "python",
      "name": "python3"
    },
    "language_info": {
      "codemirror_mode": {
        "name": "ipython",
        "version": 3
      },
      "file_extension": ".py",
      "mimetype": "text/x-python",
      "name": "python",
      "nbconvert_exporter": "python",
      "pygments_lexer": "ipython3",
      "version": "3.10.9 (tags/v3.10.9:1dd9be6, Dec  6 2022, 20:01:21) [MSC v.1934 64 bit (AMD64)]"
    },
    "vscode": {
      "interpreter": {
        "hash": "963c083ff1e2198701701ece8cf7bcddcd0f20787580b5a226b8e328d64c55ab"
      }
    }
  },
  "nbformat": 4,
  "nbformat_minor": 0
}
