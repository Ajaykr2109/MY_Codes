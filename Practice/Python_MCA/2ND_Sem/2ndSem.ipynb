{
 "cells": [
  {
   "cell_type": "code",
   "execution_count": 1,
   "metadata": {},
   "outputs": [
    {
     "name": "stdout",
     "output_type": "stream",
     "text": [
      "     age  gender   cp  target\n",
      "0     63     1.0    3     1.0\n",
      "1     37     1.0    2     1.0\n",
      "2    NaN     0.0    1     1.0\n",
      "3     56     1.0    ?     1.0\n",
      "4     57     0.0    0     1.0\n",
      "..   ...     ...  ...     ...\n",
      "298   57     0.0    0     0.0\n",
      "299   45     1.0    3     0.0\n",
      "300   68     1.0  NaN     0.0\n",
      "301   57     1.0    0     0.0\n",
      "302   57     0.0    1     0.0\n",
      "\n",
      "[303 rows x 4 columns]\n"
     ]
    }
   ],
   "source": [
    "import pandas as pd\n",
    "#path='auto.csv'\n",
    "df=pd.read_csv(\"D:\\\\LPU\\\\heart_disease_missing.csv\")\n",
    "print(df)\n"
   ]
  }
 ],
 "metadata": {
  "kernelspec": {
   "display_name": "Python 3",
   "language": "python",
   "name": "python3"
  },
  "language_info": {
   "codemirror_mode": {
    "name": "ipython",
    "version": 3
   },
   "file_extension": ".py",
   "mimetype": "text/x-python",
   "name": "python",
   "nbconvert_exporter": "python",
   "pygments_lexer": "ipython3",
   "version": "3.10.9"
  },
  "orig_nbformat": 4,
  "vscode": {
   "interpreter": {
    "hash": "963c083ff1e2198701701ece8cf7bcddcd0f20787580b5a226b8e328d64c55ab"
   }
  }
 },
 "nbformat": 4,
 "nbformat_minor": 2
}
