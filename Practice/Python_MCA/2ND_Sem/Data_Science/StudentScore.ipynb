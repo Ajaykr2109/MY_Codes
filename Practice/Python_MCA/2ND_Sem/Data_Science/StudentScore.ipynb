{
 "cells": [
  {
   "cell_type": "code",
   "execution_count": 2,
   "metadata": {},
   "outputs": [
    {
     "name": "stdout",
     "output_type": "stream",
     "text": [
      "   stat  maths\n",
      "0    95     85\n",
      "1    85     95\n",
      "2    80     70\n",
      "3    70     65\n",
      "4    60     70\n"
     ]
    }
   ],
   "source": [
    "import pandas as pd\n",
    "import numpy as np\n",
    "from sklearn.linear_model import LinearRegression\n",
    "from sklearn.metrics import mean_squared_error\n",
    "\n",
    "stat=[95,85,80,70,60]\n",
    "maths=[85,95,70,65,70]\n",
    "\n",
    "df=pd.DataFrame({\"stat\":stat,\"maths\":maths})\n",
    "print(df)\n"
   ]
  },
  {
   "cell_type": "code",
   "execution_count": 3,
   "metadata": {},
   "outputs": [
    {
     "name": "stderr",
     "output_type": "stream",
     "text": [
      "C:\\Users\\ENGEE\\AppData\\Local\\Packages\\PythonSoftwareFoundation.Python.3.10_qbz5n2kfra8p0\\LocalCache\\local-packages\\Python310\\site-packages\\sklearn\\base.py:420: UserWarning: X does not have valid feature names, but LinearRegression was fitted with feature names\n",
      "  warnings.warn(\n"
     ]
    },
    {
     "data": {
      "text/plain": [
       "array([77.])"
      ]
     },
     "execution_count": 3,
     "metadata": {},
     "output_type": "execute_result"
    }
   ],
   "source": [
    "lm=LinearRegression()\n",
    "X=df[[\"stat\"]]\n",
    "Y=df[\"maths\"]\n",
    "lm.fit(X,Y)\n",
    "lm.intercept_\n",
    "lm.coef_\n",
    "mse=mean_squared_error(Y,lm.predict(X))\n",
    "lm.score(X,Y)\n",
    "\n",
    "predict=lm.predict([[78]])\n",
    "predict"
   ]
  }
 ],
 "metadata": {
  "kernelspec": {
   "display_name": "Python 3",
   "language": "python",
   "name": "python3"
  },
  "language_info": {
   "codemirror_mode": {
    "name": "ipython",
    "version": 3
   },
   "file_extension": ".py",
   "mimetype": "text/x-python",
   "name": "python",
   "nbconvert_exporter": "python",
   "pygments_lexer": "ipython3",
   "version": "3.10.9"
  },
  "orig_nbformat": 4,
  "vscode": {
   "interpreter": {
    "hash": "963c083ff1e2198701701ece8cf7bcddcd0f20787580b5a226b8e328d64c55ab"
   }
  }
 },
 "nbformat": 4,
 "nbformat_minor": 2
}
